{
  "nbformat": 4,
  "nbformat_minor": 0,
  "metadata": {
    "colab": {
      "name": "Formação.ipynb",
      "provenance": [],
      "collapsed_sections": [],
      "include_colab_link": true
    },
    "kernelspec": {
      "name": "python3",
      "display_name": "Python 3"
    },
    "language_info": {
      "name": "python"
    },
    "accelerator": "GPU"
  },
  "cells": [
    {
      "cell_type": "markdown",
      "metadata": {
        "id": "view-in-github",
        "colab_type": "text"
      },
      "source": [
        "<a href=\"https://colab.research.google.com/github/nfrn/ComputerVisionHandsOn/blob/main/Forma%C3%A7%C3%A3o.ipynb\" target=\"_parent\"><img src=\"https://colab.research.google.com/assets/colab-badge.svg\" alt=\"Open In Colab\"/></a>"
      ]
    },
    {
      "cell_type": "markdown",
      "metadata": {
        "id": "zVTaChkJc48S"
      },
      "source": [
        "# Recolha de Dados\n"
      ]
    },
    {
      "cell_type": "code",
      "metadata": {
        "id": "Rd4r3fqY4Ap9",
        "collapsed": true
      },
      "source": [
        "!git clone https://github.com/nfrn/ComputerVisionHandsOn.git\n",
        "!unzip /content/ComputerVisionHandsOn/maskdataset.zip -d ComputerVisionHandsOn"
      ],
      "execution_count": null,
      "outputs": []
    },
    {
      "cell_type": "markdown",
      "metadata": {
        "id": "4a21qMjsdZCR"
      },
      "source": [
        "# Visualizacao dos Dados"
      ]
    },
    {
      "cell_type": "code",
      "metadata": {
        "id": "O6d4LKXldeAi"
      },
      "source": [
        "import base64\n",
        "import IPython\n",
        "import json\n",
        "import numpy as np\n",
        "import os\n",
        "import random\n",
        "import requests\n",
        "from io import BytesIO\n",
        "from math import trunc\n",
        "from PIL import Image as PILImage\n",
        "from PIL import ImageDraw as PILImageDraw"
      ],
      "execution_count": null,
      "outputs": []
    },
    {
      "cell_type": "code",
      "metadata": {
        "id": "_M2kQT_retee"
      },
      "source": [
        "class CocoDataset():\n",
        "    def __init__(self, annotation_path, image_dir):\n",
        "        self.annotation_path = annotation_path\n",
        "        self.image_dir = image_dir\n",
        "        self.colors = ['blue', 'purple', 'red', 'green', 'orange', 'salmon', 'pink', 'gold',\n",
        "                        'orchid', 'slateblue', 'limegreen', 'seagreen', 'darkgreen', 'olive',\n",
        "                        'teal', 'aquamarine', 'steelblue', 'powderblue', 'dodgerblue', 'navy',\n",
        "                        'magenta', 'sienna', 'maroon']\n",
        "        \n",
        "        json_file = open(self.annotation_path)\n",
        "        self.coco = json.load(json_file)\n",
        "        json_file.close()\n",
        "        \n",
        "        #self.process_info()\n",
        "        #self.process_licenses()\n",
        "        self.process_categories()\n",
        "        self.process_images()\n",
        "        self.process_segmentations()\n",
        "\n",
        "    def display_info(self):\n",
        "        print('Dataset Info:')\n",
        "        print('=============')\n",
        "        for key, item in self.info.items():\n",
        "            print('  {}: {}'.format(key, item))\n",
        "        \n",
        "        requirements = [['description', str],\n",
        "                        ['url', str],\n",
        "                        ['version', str],\n",
        "                        ['year', int],\n",
        "                        ['contributor', str],\n",
        "                        ['date_created', str]]\n",
        "        for req, req_type in requirements:\n",
        "            if req not in self.info:\n",
        "                print('ERROR: {} is missing'.format(req))\n",
        "            elif type(self.info[req]) != req_type:\n",
        "                print('ERROR: {} should be type {}'.format(req, str(req_type)))\n",
        "        print('')\n",
        "        \n",
        "    def display_licenses(self):\n",
        "        print('Licenses:')\n",
        "        print('=========')\n",
        "        \n",
        "        requirements = [['id', int],\n",
        "                        ['url', str],\n",
        "                        ['name', str]]\n",
        "        for license in self.licenses:\n",
        "            for key, item in license.items():\n",
        "                print('  {}: {}'.format(key, item))\n",
        "            for req, req_type in requirements:\n",
        "                if req not in license:\n",
        "                    print('ERROR: {} is missing'.format(req))\n",
        "                elif type(license[req]) != req_type:\n",
        "                    print('ERROR: {} should be type {}'.format(req, str(req_type)))\n",
        "            print('')\n",
        "        print('')\n",
        "        \n",
        "    def display_categories(self):\n",
        "        print('Categories:')\n",
        "        print('=========')\n",
        "        for sc_key, sc_val in self.super_categories.items():\n",
        "            print('  super_category: {}'.format(sc_key))\n",
        "            for cat_id in sc_val:\n",
        "                print('    id {}: {}'.format(cat_id, self.categories[cat_id]['name']))\n",
        "            print('')\n",
        "    \n",
        "    def display_image(self, image_id, show_polys=True, show_bbox=True, show_labels=True, show_crowds=True, use_url=False):\n",
        "        print('Image:')\n",
        "        print('======')\n",
        "        if image_id == 'random':\n",
        "            image_id = random.choice(list(self.images.keys()))\n",
        "        \n",
        "        # Print the image info\n",
        "        print(self.images)\n",
        "        image = self.images[image_id]\n",
        "        for key, val in image.items():\n",
        "            print('  {}: {}'.format(key, val))\n",
        "            \n",
        "        # Open the image\n",
        "        if use_url:\n",
        "            image_path = image['coco_url']\n",
        "            response = requests.get(image_path)\n",
        "            image = PILImage.open(BytesIO(response.content))\n",
        "            \n",
        "        else:\n",
        "            image_path = os.path.join(self.image_dir, image['file_name'])\n",
        "            image = PILImage.open(image_path)\n",
        "            \n",
        "        buffered = BytesIO()\n",
        "        image.save(buffered, format=\"PNG\")\n",
        "        img_str = \"data:image/png;base64, \" + base64.b64encode(buffered.getvalue()).decode()\n",
        "        \n",
        "        # Calculate the size and adjusted display size\n",
        "        max_width = 900\n",
        "        image_width, image_height = image.size\n",
        "        adjusted_width = min(image_width, max_width)\n",
        "        adjusted_ratio = adjusted_width / image_width\n",
        "        adjusted_height = adjusted_ratio * image_height\n",
        "        \n",
        "        # Create list of polygons to be drawn\n",
        "        polygons = {}\n",
        "        bbox_polygons = {}\n",
        "        rle_regions = {}\n",
        "        poly_colors = {}\n",
        "        labels = {}\n",
        "        print('  segmentations ({}):'.format(len(self.segmentations[image_id])))\n",
        "        for i, segm in enumerate(self.segmentations[image_id]):\n",
        "            polygons_list = []\n",
        "            if segm['iscrowd'] != 0:\n",
        "                # Gotta decode the RLE\n",
        "                px = 0\n",
        "                x, y = 0, 0\n",
        "                rle_list = []\n",
        "                for j, counts in enumerate(segm['segmentation']['counts']):\n",
        "                    if j % 2 == 0:\n",
        "                        # Empty pixels\n",
        "                        px += counts\n",
        "                    else:\n",
        "                        # Need to draw on these pixels, since we are drawing in vector form,\n",
        "                        # we need to draw horizontal lines on the image\n",
        "                        x_start = trunc(trunc(px / image_height) * adjusted_ratio)\n",
        "                        y_start = trunc(px % image_height * adjusted_ratio)\n",
        "                        px += counts\n",
        "                        x_end = trunc(trunc(px / image_height) * adjusted_ratio)\n",
        "                        y_end = trunc(px % image_height * adjusted_ratio)\n",
        "                        if x_end == x_start:\n",
        "                            # This is only on one line\n",
        "                            rle_list.append({'x': x_start, 'y': y_start, 'width': 1 , 'height': (y_end - y_start)})\n",
        "                        if x_end > x_start:\n",
        "                            # This spans more than one line\n",
        "                            # Insert top line first\n",
        "                            rle_list.append({'x': x_start, 'y': y_start, 'width': 1, 'height': (image_height - y_start)})\n",
        "                            \n",
        "                            # Insert middle lines if needed\n",
        "                            lines_spanned = x_end - x_start + 1 # total number of lines spanned\n",
        "                            full_lines_to_insert = lines_spanned - 2\n",
        "                            if full_lines_to_insert > 0:\n",
        "                                full_lines_to_insert = trunc(full_lines_to_insert * adjusted_ratio)\n",
        "                                rle_list.append({'x': (x_start + 1), 'y': 0, 'width': full_lines_to_insert, 'height': image_height})\n",
        "                                \n",
        "                            # Insert bottom line\n",
        "                            rle_list.append({'x': x_end, 'y': 0, 'width': 1, 'height': y_end})\n",
        "                if len(rle_list) > 0:\n",
        "                    rle_regions[segm['id']] = rle_list  \n",
        "            else:\n",
        "                # Add the polygon segmentation\n",
        "                for segmentation_points in segm['segmentation']:\n",
        "                    segmentation_points = np.multiply(segmentation_points, adjusted_ratio).astype(int)\n",
        "                    polygons_list.append(str(segmentation_points).lstrip('[').rstrip(']'))\n",
        "\n",
        "            polygons[segm['id']] = polygons_list\n",
        "\n",
        "            if i < len(self.colors):\n",
        "                poly_colors[segm['id']] = self.colors[i]\n",
        "            else:\n",
        "                poly_colors[segm['id']] = 'white'\n",
        "            \n",
        "            bbox = segm['bbox']\n",
        "            bbox_points = [bbox[0], bbox[1], bbox[0] + bbox[2], bbox[1],\n",
        "                           bbox[0] + bbox[2], bbox[1] + bbox[3], bbox[0], bbox[1] + bbox[3],\n",
        "                           bbox[0], bbox[1]]\n",
        "            bbox_points = np.multiply(bbox_points, adjusted_ratio).astype(int)\n",
        "            bbox_polygons[segm['id']] = str(bbox_points).lstrip('[').rstrip(']')\n",
        "            \n",
        "            labels[segm['id']] = (self.categories[segm['category_id']]['name'], (bbox_points[0], bbox_points[1] - 4))\n",
        "            \n",
        "            # Print details\n",
        "            print('    {}:{}:{}'.format(segm['id'], poly_colors[segm['id']], self.categories[segm['category_id']]))\n",
        "\n",
        "        # Draw segmentation polygons on image\n",
        "        html = '<div class=\"container\" style=\"position:relative;\">'\n",
        "        html += '<img src=\"{}\" style=\"position:relative;top:0px;left:0px;width:{}px;\">'.format(img_str, adjusted_width)\n",
        "        html += '<div class=\"svgclass\"><svg width=\"{}\" height=\"{}\">'.format(adjusted_width, adjusted_height)\n",
        "        \n",
        "        if show_polys:\n",
        "            for seg_id, points_list in polygons.items():\n",
        "                fill_color = poly_colors[seg_id]\n",
        "                stroke_color = poly_colors[seg_id]\n",
        "                for points in points_list:\n",
        "                    html += '<polygon points=\"{}\" style=\"fill:{}; stroke:{}; stroke-width:1; fill-opacity:0.5\" />'.format(points, fill_color, stroke_color)\n",
        "        \n",
        "        if show_crowds:\n",
        "            for seg_id, rect_list in rle_regions.items():\n",
        "                fill_color = poly_colors[seg_id]\n",
        "                stroke_color = poly_colors[seg_id]\n",
        "                for rect_def in rect_list:\n",
        "                    x, y = rect_def['x'], rect_def['y']\n",
        "                    w, h = rect_def['width'], rect_def['height']\n",
        "                    html += '<rect x=\"{}\" y=\"{}\" width=\"{}\" height=\"{}\" style=\"fill:{}; stroke:{}; stroke-width:1; fill-opacity:0.5; stroke-opacity:0.5\" />'.format(x, y, w, h, fill_color, stroke_color)\n",
        "            \n",
        "        if show_bbox:\n",
        "            for seg_id, points in bbox_polygons.items():\n",
        "                fill_color = poly_colors[seg_id]\n",
        "                stroke_color = poly_colors[seg_id]\n",
        "                html += '<polygon points=\"{}\" style=\"fill:{}; stroke:{}; stroke-width:1; fill-opacity:0\" />'.format(points, fill_color, stroke_color)\n",
        "                \n",
        "        if show_labels:\n",
        "            for seg_id, label in labels.items():\n",
        "                color = poly_colors[seg_id]\n",
        "                html += '<text x=\"{}\" y=\"{}\" style=\"fill:{}; font-size: 12pt;\">{}</text>'.format(label[1][0], label[1][1], color, label[0])\n",
        "                \n",
        "        html += '</svg></div>'\n",
        "        html += '</div>'\n",
        "        html += '<style>'\n",
        "        html += '.svgclass { position:absolute; top:0px; left:0px;}'\n",
        "        html += '</style>'\n",
        "        return html\n",
        "       \n",
        "    def process_info(self):\n",
        "        self.info = self.coco['info']\n",
        "    \n",
        "    def process_licenses(self):\n",
        "        self.licenses = self.coco['licenses']\n",
        "    \n",
        "    def process_categories(self):\n",
        "        self.categories = {}\n",
        "        self.super_categories = {}\n",
        "        for category in self.coco['categories']:\n",
        "            cat_id = category['id']\n",
        "            super_category = category['supercategory']\n",
        "            \n",
        "            # Add category to the categories dict\n",
        "            if cat_id not in self.categories:\n",
        "                self.categories[cat_id] = category\n",
        "            else:\n",
        "                print(\"ERROR: Skipping duplicate category id: {}\".format(category))\n",
        "\n",
        "            # Add category to super_categories dict\n",
        "            if super_category not in self.super_categories:\n",
        "                self.super_categories[super_category] = {cat_id} # Create a new set with the category id\n",
        "            else:\n",
        "                self.super_categories[super_category] |= {cat_id} # Add category id to the set\n",
        "                \n",
        "    def process_images(self):\n",
        "        self.images = {}\n",
        "        for image in self.coco['images']:\n",
        "            image_id = image['id']\n",
        "            if image_id in self.images:\n",
        "                print(\"ERROR: Skipping duplicate image id: {}\".format(image))\n",
        "            else:\n",
        "                self.images[image_id] = image\n",
        "                \n",
        "    def process_segmentations(self):\n",
        "        self.segmentations = {}\n",
        "        for segmentation in self.coco['annotations']:\n",
        "            image_id = segmentation['image_id']\n",
        "            if image_id not in self.segmentations:\n",
        "                self.segmentations[image_id] = []\n",
        "            self.segmentations[image_id].append(segmentation)"
      ],
      "execution_count": null,
      "outputs": []
    },
    {
      "cell_type": "code",
      "metadata": {
        "id": "L8BX0V5ze0id"
      },
      "source": [
        "annotation_path = r'/content/ComputerVisionHandsOn/train/_annotations.coco.json'\n",
        "image_dir = r'/content/ComputerVisionHandsOn/train'\n",
        "\n",
        "coco_dataset = CocoDataset(annotation_path, image_dir)\n",
        "html = coco_dataset.display_image(1, use_url=False)\n",
        "IPython.display.HTML(html)"
      ],
      "execution_count": null,
      "outputs": []
    },
    {
      "cell_type": "markdown",
      "metadata": {
        "id": "wftEjOCZgDaE"
      },
      "source": [
        "# Download do Modelo Original"
      ]
    },
    {
      "cell_type": "code",
      "metadata": {
        "id": "w4fVPmTOSN_n"
      },
      "source": [
        "! git clone https://github.com/roboflow-ai/Monk_Object_Detection.git\n",
        "! cd Monk_Object_Detection/3_mxrcnn/installation && cat requirements_colab.txt | xargs -n 1 -L 1 pip install"
      ],
      "execution_count": null,
      "outputs": []
    },
    {
      "cell_type": "code",
      "metadata": {
        "id": "Ul35xkdmSkta"
      },
      "source": [
        "#fixed version of tqdm output for Colab\n",
        "!pip install --force https://github.com/chengs/tqdm/archive/colab.zip\n",
        "#IGNORE restart runtime warning, it is indeed installed\n",
        "#missing a few extra packages that we will need later! \n",
        "!pip install efficientnet_pytorch\n",
        "!pip install tensorboardX"
      ],
      "execution_count": null,
      "outputs": []
    },
    {
      "cell_type": "markdown",
      "metadata": {
        "id": "7NDdsA4LgNxr"
      },
      "source": [
        "# Re-estruturar Pastas"
      ]
    },
    {
      "cell_type": "code",
      "metadata": {
        "id": "pA9LnAY0S28Q"
      },
      "source": [
        "!mkdir Masks\n",
        "!mkdir Masks/Train\n",
        "!mkdir Masks/Train/annotations\n",
        "!mkdir Masks/Train/Annotations\n",
        "!mkdir Masks/Train/Images\n",
        "\n",
        "!mkdir Masks/Validation\n",
        "!mkdir Masks/Validation/annotations\n",
        "!mkdir Masks/Validation/Annotations\n",
        "!mkdir Masks/Validation/Images\n",
        "\n",
        "!mkdir Masks/Test\n",
        "!mkdir Masks/Test/annotations\n",
        "!mkdir Masks/Test/Annotations\n",
        "!mkdir Masks/Test/Images"
      ],
      "execution_count": null,
      "outputs": []
    },
    {
      "cell_type": "code",
      "metadata": {
        "id": "Dofla3kKUuQZ"
      },
      "source": [
        "%ls"
      ],
      "execution_count": null,
      "outputs": []
    },
    {
      "cell_type": "code",
      "metadata": {
        "id": "DbEGAng0S7Ja"
      },
      "source": [
        "%cp ComputerVisionHandsOn/train/_annotations.coco.json Masks/Train/annotations/instances_Images.json\n",
        "%cp ComputerVisionHandsOn/train/*.jpg Masks/Train/Images/\n",
        "\n",
        "%cp ComputerVisionHandsOn/valid/_annotations.coco.json Masks/Validation/annotations/instances_Images.json\n",
        "%cp ComputerVisionHandsOn/valid/*.jpg Masks/Validation/Images/\n",
        "\n",
        "%cp ComputerVisionHandsOn/test/_annotations.coco.json Masks/Test/annotations/instances_Images.json\n",
        "%cp ComputerVisionHandsOn/test/*.jpg Masks/Test/Images/"
      ],
      "execution_count": null,
      "outputs": []
    },
    {
      "cell_type": "code",
      "metadata": {
        "id": "InuJ2008Tc5j"
      },
      "source": [
        "import os\n",
        "import sys\n",
        "sys.path.append(\"Monk_Object_Detection/4_efficientdet/lib/\");"
      ],
      "execution_count": null,
      "outputs": []
    },
    {
      "cell_type": "markdown",
      "metadata": {
        "id": "l872Izp5gT0f"
      },
      "source": [
        "# Configurações de Treino"
      ]
    },
    {
      "cell_type": "code",
      "metadata": {
        "id": "QMwsvGqlTg4W"
      },
      "source": [
        "from train_detector import Detector"
      ],
      "execution_count": null,
      "outputs": []
    },
    {
      "cell_type": "code",
      "metadata": {
        "id": "9NhQ4Fh0TiCX"
      },
      "source": [
        "gtf = Detector();"
      ],
      "execution_count": null,
      "outputs": []
    },
    {
      "cell_type": "code",
      "metadata": {
        "id": "oYrKrauGTjal"
      },
      "source": [
        "#directs the model towards file structure\n",
        "root_dir = \"./\";\n",
        "coco_dir = \"Masks/Train\";\n",
        "img_dir = \"./\";\n",
        "set_dir = \"Images\"; \n",
        "gtf.Train_Dataset(root_dir, coco_dir, img_dir, set_dir, batch_size=8, image_size=512, use_gpu=True)"
      ],
      "execution_count": null,
      "outputs": []
    },
    {
      "cell_type": "code",
      "metadata": {
        "id": "LjGJ3cJFTmHf"
      },
      "source": [
        "#directs the model towards file structure\n",
        "root_dir = \"./\";\n",
        "coco_dir = \"Masks/Validation\";\n",
        "img_dir = \"./\";\n",
        "set_dir = \"Images\"; \n",
        "gtf.Val_Dataset(root_dir, coco_dir, img_dir, set_dir) "
      ],
      "execution_count": null,
      "outputs": []
    },
    {
      "cell_type": "code",
      "metadata": {
        "id": "W6Y1uqxSTpjO"
      },
      "source": [
        "gtf.Model();"
      ],
      "execution_count": null,
      "outputs": []
    },
    {
      "cell_type": "code",
      "metadata": {
        "id": "FncdPIdRTrkc"
      },
      "source": [
        "gtf.Set_Hyperparams(lr=0.0001, val_interval=1, es_min_delta=0.0, es_patience=0)"
      ],
      "execution_count": null,
      "outputs": []
    },
    {
      "cell_type": "code",
      "metadata": {
        "id": "qtKQDhQ5Ts6g"
      },
      "source": [
        "%%time\n",
        "gtf.Train(num_epochs=10, model_output_dir=\"trained/\");"
      ],
      "execution_count": null,
      "outputs": []
    },
    {
      "cell_type": "markdown",
      "metadata": {
        "id": "F-PU12d7gj8-"
      },
      "source": [
        "# Configurações de Inferencia"
      ]
    },
    {
      "cell_type": "code",
      "metadata": {
        "id": "Iju-TAzxYoEG"
      },
      "source": [
        "import os\n",
        "import sys\n",
        "sys.path.append(\"Monk_Object_Detection/4_efficientdet/lib/\");"
      ],
      "execution_count": null,
      "outputs": []
    },
    {
      "cell_type": "code",
      "metadata": {
        "id": "LPa3XwDTYvc6"
      },
      "source": [
        "from infer_detector import Infer\n",
        "gtf = Infer();"
      ],
      "execution_count": null,
      "outputs": []
    },
    {
      "cell_type": "code",
      "metadata": {
        "id": "ZQBq51DnY0Cr"
      },
      "source": [
        "#our trained model weights are in here in onxx format\n",
        "gtf.Model(model_dir=\"trained\")"
      ],
      "execution_count": null,
      "outputs": []
    },
    {
      "cell_type": "code",
      "metadata": {
        "id": "GGoPSzj4fRWa"
      },
      "source": [
        "import json\n",
        "with open('ComputerVisionHandsOn/train/_annotations.coco.json') as json_file:\n",
        "    data = json.load(json_file)\n",
        "class_list = []\n",
        "for category in data['categories']:\n",
        "  class_list.append(category['name'])"
      ],
      "execution_count": null,
      "outputs": []
    },
    {
      "cell_type": "code",
      "metadata": {
        "id": "euVd4WAQfxMx"
      },
      "source": [
        "class_list"
      ],
      "execution_count": null,
      "outputs": []
    },
    {
      "cell_type": "code",
      "metadata": {
        "id": "PMGnTFylf1u2"
      },
      "source": [
        "%%time\n",
        "#bang!\n",
        "img_path = \"/content/ComputerVisionHandsOn/test/phplpE73q_jpg.rf.0ab5de066db2a3791b039388014565fe.jpg\";\n",
        "duration, scores, labels, boxes = gtf.Predict(img_path, class_list, vis_threshold=0.3);"
      ],
      "execution_count": null,
      "outputs": []
    },
    {
      "cell_type": "code",
      "metadata": {
        "id": "Hvg_JnJmf6-I"
      },
      "source": [
        "from IPython.display import Image\n",
        "Image(filename='output.jpg')"
      ],
      "execution_count": null,
      "outputs": []
    },
    {
      "cell_type": "code",
      "metadata": {
        "id": "XiWjEOlNisaV"
      },
      "source": [
        ""
      ],
      "execution_count": null,
      "outputs": []
    }
  ]
}